{
 "cells": [
  {
   "cell_type": "code",
   "execution_count": 1,
   "metadata": {},
   "outputs": [
    {
     "name": "stderr",
     "output_type": "stream",
     "text": [
      "C:\\Users\\SwapnaliAnarase\\AppData\\Local\\Temp\\ipykernel_14724\\1722516272.py:7: FutureWarning: The error_bad_lines argument has been deprecated and will be removed in a future version. Use on_bad_lines in the future.\n",
      "\n",
      "\n",
      "  df = pd.read_csv(\n",
      "C:\\Users\\SwapnaliAnarase\\AppData\\Local\\Temp\\ipykernel_14724\\1722516272.py:7: FutureWarning: The warn_bad_lines argument has been deprecated and will be removed in a future version. Use on_bad_lines in the future.\n",
      "\n",
      "\n",
      "  df = pd.read_csv(\n",
      "C:\\Users\\SwapnaliAnarase\\AppData\\Local\\Temp\\ipykernel_14724\\1722516272.py:7: DtypeWarning: Columns (7,9,18) have mixed types. Specify dtype option on import or set low_memory=False.\n",
      "  df = pd.read_csv(\n"
     ]
    }
   ],
   "source": [
    "import pandas as pd\n",
    "\n",
    "from datetime import datetime\n",
    "\n",
    "\n",
    "\n",
    "df = pd.read_csv(\n",
    "\n",
    "    r'D:\\Gupshup_incoming\\cdp_incoming_historical_042022.csv'\n",
    "\n",
    "    ,sep='|'\n",
    "\n",
    "    ,error_bad_lines=False\n",
    "\n",
    "    ,warn_bad_lines=False\n",
    "\n",
    "    ,index_col=False\n",
    "\n",
    ")"
   ]
  },
  {
   "cell_type": "code",
   "execution_count": null,
   "metadata": {},
   "outputs": [],
   "source": [
    "\n",
    "pd.set_option('display.max_columns', None)\n",
    "\n",
    "df['timestamp']=df['timestamp'].astype('str').str[:-2]\n",
    "\n",
    "# df['mobile']=df['mobile'].astype('Int64')\n",
    "\n",
    "\n",
    "df.to_csv(r'D:\\Gupshup_incoming_unzip\\cdp_incoming_historical_042022.csv',index=False)"
   ]
  },
  {
   "cell_type": "code",
   "execution_count": 5,
   "metadata": {},
   "outputs": [
    {
     "data": {
      "text/plain": [
       "(3840696, 26)"
      ]
     },
     "execution_count": 5,
     "metadata": {},
     "output_type": "execute_result"
    }
   ],
   "source": [
    "df.shape"
   ]
  },
  {
   "cell_type": "code",
   "execution_count": 4,
   "metadata": {},
   "outputs": [
    {
     "data": {
      "text/plain": [
       "eventtype                    18\n",
       "srcaddr                 3840696\n",
       "channel                 3840340\n",
       "errorcode               3840696\n",
       "events                  3840696\n",
       "cause                   3840696\n",
       "destaddr                3840696\n",
       "externalid              3840689\n",
       "nooffrags               3840696\n",
       "Wanumber                    216\n",
       "timestamp                     0\n",
       "text                        577\n",
       "type                    3840696\n",
       "mobile                     1006\n",
       "name                    3840696\n",
       "video                   3840696\n",
       "image                   3840696\n",
       "forwarded               3840696\n",
       "context                 3840626\n",
       "voice                   3840696\n",
       "messageid                241022\n",
       "interactive             3840696\n",
       "replyid                 3840696\n",
       "document                3840696\n",
       "default_date            3840696\n",
       "frequently_forwarded    3840696\n",
       "dtype: int64"
      ]
     },
     "execution_count": 4,
     "metadata": {},
     "output_type": "execute_result"
    }
   ],
   "source": [
    "df.isna().sum()"
   ]
  },
  {
   "cell_type": "code",
   "execution_count": null,
   "metadata": {},
   "outputs": [],
   "source": []
  },
  {
   "cell_type": "code",
   "execution_count": null,
   "metadata": {},
   "outputs": [],
   "source": []
  }
 ],
 "metadata": {
  "kernelspec": {
   "display_name": "Python 3",
   "language": "python",
   "name": "python3"
  },
  "language_info": {
   "codemirror_mode": {
    "name": "ipython",
    "version": 3
   },
   "file_extension": ".py",
   "mimetype": "text/x-python",
   "name": "python",
   "nbconvert_exporter": "python",
   "pygments_lexer": "ipython3",
   "version": "3.10.7 (tags/v3.10.7:6cc6b13, Sep  5 2022, 14:08:36) [MSC v.1933 64 bit (AMD64)]"
  },
  "orig_nbformat": 4,
  "vscode": {
   "interpreter": {
    "hash": "cedef0add2fd90eaad23517ecc9985567d920242f3f700fd168d14acb11a8ab9"
   }
  }
 },
 "nbformat": 4,
 "nbformat_minor": 2
}
